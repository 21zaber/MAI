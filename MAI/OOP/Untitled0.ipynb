{
 "metadata": {
  "name": "",
  "signature": "sha256:d104e7f3993145e93c7514ce8ef2ad40884b58885ac2d5d10cd2c0850007a711"
 },
 "nbformat": 3,
 "nbformat_minor": 0,
 "worksheets": [
  {
   "cells": [
    {
     "cell_type": "code",
     "collapsed": false,
     "input": [
      "import requests\n",
      "\n",
      "method = 'GET'\n",
      "url = 'http://wow.ru/vault/character/auction/browse?n=%D0%9A%D0%B0%D0%BC%D0%B5%D0%BD%D0%BD%D0%BE-%D1%82%D0%B2%D0%B5%D1%80%D0%B4%D0%B0%D1%8F+%D0%BA%D0%BE%D0%B6%D0%B0&filterId=-1&minLvl=-1&maxLvl=-1&qual=1&start=0&end=20&sort=unitBuyout&reverse=false'\n",
      "\n",
      "headers = {\n",
      "\"Host\": \"eu.battle.net\",\n",
      "\"Connection\": \"keep-alive\", \n",
      "\"Cache-Control\": \"max-age=0\",\n",
      "\"Upgrade-Insecure-Requests\": \"1\",\n",
      "\"User-Agent\": \"Mozilla/5.0 (X11; Linux x86_64) AppleWebKit/537.36 (KHTML, like Gecko) Chrome/53.0.2785.116 Safari/537.36\", \n",
      "\"Accept\": \"text/html,application/xhtml+xml,application/xml;q=0.9,image/webp,*/*;q=0.8\",\n",
      "\"Referer\": \"https://eu.battle.net/wow/ru/vault/character/auction/browse?reverse=false&sort=unitBuyout&filterId=-1&maxLvl=-1&start=0&n=%CA%E0%EC%E5%ED%ED%EE-%F2%E2%E5%F0%E4%E0%FF+%EA%EE%E6%E0&qual=1&minLvl=-1&end=20\",\n",
      "\"Accept-Encoding\": \"gzip, deflate, sdch, br\", \n",
      "\"Accept-Language\": \"ru-RU,ru;q=0.8,en-US;q=0.6,en;q=0.4\"\n",
      "#\"Cookie\": \"\"\"wow.auction.lastBrowse=?n=%D0%9A%D0%B0%D0%BC%D0%B5%D0%BD%D0%BD%D0%BE-%D1%82%D0%B2%D0%B5%D1%80%D0%B4%D0%B0%D1%8F+%D0%BA%D0%BE%D0%B6%D0%B0&filterId=-1&minLvl=-1&maxLvl=-1&qual=1&start=0&end=20&sort=unitBuyout&reverse=false; JSESSIONID=B84BD667ACAE6270C8EE9198562B0933.blade03_08_bnet_wow; login.cookies=1; eu-cookie-compliance-agreed=1; web.id=EU-cd66461b-e42f-4315-9481-ca9175b338de; xstoken=d89fb120-de17-4913-8554-1c763481b243; _gat_bnetgtm=1; __utmt=1; loginChecked=1; ADRUM_BTa=\"R:202|g:e613ad65-2142-4a25-affa-06c765c7d734\"; BA-tassadar-login.key=5746fcd5b3c6a60cd590112ee49d0682; login.key=5746fcd5b3c6a60cd590112ee49d0682; opt=1; _ga=GA1.3.1874113609.1479243045; __utma=134253166.1874113609.1479243045.1479243089.1480339400.2; __utmb=134253166.2.10.1480339400; __utmc=134253166; __utmz=134253166.1480339400.2.2.utmcsr=vk.com|utmccn=(referral)|utmcmd=referral|utmcct=/im}\"\"\"\n",
      "}\n",
      "\n",
      "cookies = {\n",
      "\"wow.auction.lastBrowse\": \"?n=%D0%9A%D0%B0%D0%BC%D0%B5%D0%BD%D0%BD%D0%BE-%D1%82%D0%B2%D0%B5%D1%80%D0%B4%D0%B0%D1%8F+%D0%BA%D0%BE%D0%B6%D0%B0&filterId=-1&minLvl=-1&maxLvl=-1&qual=1&start=0&end=20&sort=unitBuyout&reverse=false\", \n",
      "\"JSESSIONID\": \"B84BD667ACAE6270C8EE9198562B0933.blade03_08_bnet_wow\", \n",
      "\"login.cookies\": \"1\", \n",
      "\"eu-cookie-compliance-agreed\": \"1\", \n",
      "\"web.id\": \"EU-cd66461b-e42f-4315-9481-ca9175b338de\", \n",
      "\"xstoken\": \"d89fb120-de17-4913-8554-1c763481b243\",  \n",
      "\"_gat_bnetgtm\": \"1\", \n",
      "\"__utmt\": \"1\", \n",
      "\"loginChecked\": \"1\",\n",
      "\"ADRUM_BTa\": \"R:202|g:e613ad65-2142-4a25-affa-06c765c7d734\", \n",
      "\"BA-tassadar-login.key\": \"5746fcd5b3c6a60cd590112ee49d0682\", \n",
      "\"login.key\": \"5746fcd5b3c6a60cd590112ee49d0682\", \n",
      "\"opt\": \"1\", \n",
      "#\"_ga\": \"GA1.3.1874113609.1479243045\", \n",
      "#\"__utma\": \"134253166.1874113609.1479243045.1479243089.1480339400.2\", \n",
      "#\"__utmb\": \"134253166.2.10.1480339400\", \n",
      "#\"__utmc\": \"134253166\", \n",
      "#\"__utmz\": \"134253166.1480339400.2.2.utmcsr=vk.com|utmccn=(referral)|utmcmd=referral|utmcct=/im}\"\n",
      "}\n",
      "\"\"\"wow.auction.lastBrowse=?n=%D0%9A%D0%B0%D0%BC%D0%B5%D0%BD%D0%BD%D0%BE-%D1%82%D0%B2%D0%B5%D1%80%D0%B4%D0%B0%D1%8F+%D0%BA%D0%BE%D0%B6%D0%B0&filterId=-1&minLvl=-1&maxLvl=-1&qual=1&start=0&end=20&sort=unitBuyout&reverse=false; JSESSIONID=B84BD667ACAE6270C8EE9198562B0933.blade03_08_bnet_wow; login.cookies=1; eu-cookie-compliance-agreed=1; web.id=EU-cd66461b-e42f-4315-9481-ca9175b338de; xstoken=d89fb120-de17-4913-8554-1c763481b243; _gat_bnetgtm=1; __utmt=1; loginChecked=1; ADRUM_BTa=\"R:202|g:e613ad65-2142-4a25-affa-06c765c7d734\"; BA-tassadar-login.key=5746fcd5b3c6a60cd590112ee49d0682; login.key=5746fcd5b3c6a60cd590112ee49d0682; opt=1; _ga=GA1.3.1874113609.1479243045; __utma=134253166.1874113609.1479243045.1479243089.1480339400.2; __utmb=134253166.2.10.1480339400; __utmc=134253166; __utmz=134253166.1480339400.2.2.utmcsr=vk.com|utmccn=(referral)|utmcmd=referral|utmcct=/im}\"\"\"\n",
      "\n",
      "#req = requests.Request(method=method, url=url, headers=headers, cookies=cookies)\n",
      "#req.prepare()\n",
      "print(requests.get(url, headers=headers, cookies=cookies))"
     ],
     "language": "python",
     "metadata": {},
     "outputs": [
      {
       "output_type": "stream",
       "stream": "stdout",
       "text": [
        "<Response [404]>\n"
       ]
      }
     ],
     "prompt_number": 26
    }
   ],
   "metadata": {}
  }
 ]
}